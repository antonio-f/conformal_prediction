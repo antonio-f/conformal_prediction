{
 "cells": [
  {
   "cell_type": "markdown",
   "metadata": {},
   "source": [
    "# Conformal Prediction - minimal example"
   ]
  },
  {
   "cell_type": "markdown",
   "metadata": {},
   "source": [
    "### What is Conformal Prediction?\n",
    "\n",
    "Conformal Prediction is a technique used to generate prediction sets or intervals that are calibrated to guarantee a certain level of confidence. The key idea is to use past data to produce prediction intervals that will, with high probability, contain the true value of a future observation.\n",
    "\n",
    "**Prediction sets**: Instead of just giving a point prediction (e.g., the mean or mode), conformal prediction provides a set of possible values for a future prediction. This set is constructed so that the true outcome is likely to be included within it.\n",
    "\n",
    "**Confidence level**: You can specify a desired level of confidence (say, 95%), meaning the method will produce a prediction set that includes the true value 95% of the time."
   ]
  },
  {
   "cell_type": "markdown",
   "metadata": {},
   "source": [
    "Let's take a fresh approach and build a new, minimal example of **conformal prediction** using PyTorch. This example will focus on applying conformal prediction to a regression problem using a basic linear model.\n",
    "\n",
    "### Problem\n",
    "\n",
    "We will generate synthetic data following a linear model, train a simple model to predict y from x, and use conformal prediction to generate prediction intervals for new test data points.\n",
    "Steps for the Minimal Example:\n",
    "\n",
    "\n",
    "**Generate Synthetic Data**.\n",
    "    We generate synthetic data where `y = 2x + 1 + noise`, and `x` is a random value. The model is trained to learn this linear relationship.\n",
    "\n",
    "**Define a Simple Model**.\n",
    "    The SimpleLinearModel is a basic linear regression model with one input and one output. The model is trained to learn the relationship between x and y.\n",
    "\n",
    "**Train the Model**.\n",
    "    We train the model using Stochastic Gradient Descent (SGD) and the Mean Squared Error (MSE) loss function.\n",
    "\n",
    "**Compute Nonconformity Scores**.\n",
    "    After training the model, we calculate the nonconformity scores as the absolute residuals (the absolute difference between the predicted values and the actual y_train values).\n",
    "\n",
    "**Prediction Intervals**.\n",
    "    We compute prediction intervals for each test data point. The intervals are defined as prediction ± threshold, where the threshold is the (1 - alpha) quantile of the training residuals. For a confidence level of 95%, we use alpha = 0.05.\n",
    "\n",
    "**Display Results**.\n",
    "    The model’s predictions and the corresponding prediction intervals are displayed for each test data point.\n",
    "    The prediction intervals are plotted as vertical lines around the test predictions on a graph.\n"
   ]
  },
  {
   "cell_type": "markdown",
   "metadata": {},
   "source": [
    "### Output\n",
    "\n",
    "The output would look like this:\n",
    "\n",
    "\n",
    "```\n",
    "Test point 1: Prediction = 1.98, Interval = (1.92, 2.04)\n",
    "\n",
    "Test point 2: Prediction = 2.11, Interval = (2.05, 2.17)\n",
    "\n",
    "Test point 3: Prediction = 2.26, Interval = (2.20, 2.32)\n",
    "\n",
    "Test point 4: Prediction = 1.82, Interval = (1.76, 1.88)\n",
    "\n",
    "Test point 5: Prediction = 2.13, Interval = (2.07, 2.19)\n",
    "\n",
    "```\n",
    "\n",
    "This output provides the prediction for each test point along with a 95% prediction interval.\n"
   ]
  },
  {
   "cell_type": "markdown",
   "metadata": {},
   "source": [
    "### Visualization\n",
    "\n",
    "The plot will show:\n",
    "\n",
    "- Training data points in blue.\n",
    "- Model predictions as a red line.\n",
    "- Prediction intervals as green dashed lines around the test points.\n",
    "\n",
    "### Explanation of Key Concepts\n",
    "\n",
    "**Nonconformity Score**: This is the absolute error (residual) for each data point. It's used to assess how well the model fits each individual training data point.\n",
    "**Prediction Interval**: The interval around the model's prediction for a new test point. It gives a confidence range for the prediction, constructed using the nonconformity scores from the training data."
   ]
  },
  {
   "cell_type": "markdown",
   "metadata": {},
   "source": [
    "### Minimal Example: Conformal Prediction with PyTorch"
   ]
  },
  {
   "cell_type": "code",
   "execution_count": 1,
   "metadata": {},
   "outputs": [],
   "source": [
    "# Import libs\n",
    "import torch\n",
    "import torch.nn as nn\n",
    "import numpy as np\n",
    "import matplotlib.pyplot as plt"
   ]
  },
  {
   "cell_type": "code",
   "execution_count": 2,
   "metadata": {},
   "outputs": [],
   "source": [
    "# 1. Generate synthetic data (y = 2 * x + 1 + noise)\n",
    "np.random.seed(42)\n",
    "X_train = np.random.rand(100, 1)  # 100 random data points\n",
    "y_train = 2 * X_train + 1 + 0.1 * np.random.randn(100, 1)  # y = 2 * X + 1 + noise\n",
    "X_test = np.random.rand(5, 1)  # 5 test points"
   ]
  },
  {
   "cell_type": "code",
   "execution_count": 3,
   "metadata": {},
   "outputs": [],
   "source": [
    "# 2. Define a simple linear model using PyTorch\n",
    "class SimpleLinearModel(nn.Module):\n",
    "    def __init__(self):\n",
    "        super(SimpleLinearModel, self).__init__()\n",
    "        self.fc = nn.Linear(1, 1)  # One input, one output\n",
    "\n",
    "    def forward(self, x):\n",
    "        return self.fc(x)"
   ]
  },
  {
   "cell_type": "code",
   "execution_count": 4,
   "metadata": {},
   "outputs": [],
   "source": [
    "# 3. Train the model\n",
    "model = SimpleLinearModel()\n",
    "criterion = nn.MSELoss()\n",
    "optimizer = torch.optim.SGD(model.parameters(), lr=0.1)"
   ]
  },
  {
   "cell_type": "code",
   "execution_count": 5,
   "metadata": {},
   "outputs": [],
   "source": [
    "# Convert data to PyTorch tensors\n",
    "X_train_tensor = torch.tensor(X_train, dtype=torch.float32)\n",
    "y_train_tensor = torch.tensor(y_train, dtype=torch.float32)"
   ]
  },
  {
   "cell_type": "code",
   "execution_count": 6,
   "metadata": {},
   "outputs": [],
   "source": [
    "# Training loop\n",
    "for epoch in range(500):\n",
    "    model.train()\n",
    "    optimizer.zero_grad()\n",
    "    output = model(X_train_tensor)\n",
    "    loss = criterion(output, y_train_tensor)\n",
    "    loss.backward()\n",
    "    optimizer.step()"
   ]
  },
  {
   "cell_type": "code",
   "execution_count": 7,
   "metadata": {},
   "outputs": [],
   "source": [
    "# 4. Compute nonconformity scores (absolute residuals on training set)\n",
    "model.eval()\n",
    "train_preds = model(X_train_tensor).detach().numpy()\n",
    "residuals = np.abs(train_preds - y_train)  # Nonconformity scores are absolute residuals\n",
    "\n",
    "# 5. Make predictions for test points and compute nonconformity scores for them\n",
    "X_test_tensor = torch.tensor(X_test, dtype=torch.float32)\n",
    "test_preds = model(X_test_tensor).detach().numpy()\n",
    "\n",
    "# 6. Generate prediction intervals\n",
    "# Calculate the threshold using the (1 - alpha) quantile of the residuals\n",
    "alpha = 0.05\n",
    "threshold = np.percentile(residuals.flatten(), (1 - alpha) * 100)  # (1-alpha) quantile of residuals"
   ]
  },
  {
   "cell_type": "code",
   "execution_count": 8,
   "metadata": {},
   "outputs": [],
   "source": [
    "# Prediction intervals for test data points\n",
    "prediction_intervals = []\n",
    "for i in range(len(test_preds)):\n",
    "    lower_bound = test_preds[i] - threshold\n",
    "    upper_bound = test_preds[i] + threshold\n",
    "    prediction_intervals.append((lower_bound, upper_bound))\n"
   ]
  },
  {
   "cell_type": "code",
   "execution_count": 9,
   "metadata": {},
   "outputs": [
    {
     "name": "stdout",
     "output_type": "stream",
     "text": [
      "Test point 1: Prediction = 2.57, Interval = (2.38, 2.77)\n",
      "Test point 2: Prediction = 2.00, Interval = (1.81, 2.20)\n",
      "Test point 3: Prediction = 2.15, Interval = (1.96, 2.34)\n",
      "Test point 4: Prediction = 1.98, Interval = (1.79, 2.18)\n",
      "Test point 5: Prediction = 1.40, Interval = (1.21, 1.60)\n"
     ]
    },
    {
     "data": {
      "image/png": "[encoded data removed]",
      "text/plain": [
       "<Figure size 640x480 with 1 Axes>"
      ]
     },
     "metadata": {},
     "output_type": "display_data"
    }
   ],
   "source": [
    "# 7. Display the results (prediction intervals for each test point)\n",
    "for i, (lower, upper) in enumerate(prediction_intervals):\n",
    "    print(f\"Test point {i+1}: Prediction = {test_preds[i][0]:.2f}, Interval = ({lower[0]:.2f}, {upper[0]:.2f})\")\n",
    "\n",
    "# 8. Plot the results\n",
    "plt.scatter(X_train, y_train, label=\"Training Data\", color=\"blue\")\n",
    "plt.plot(X_train, model(X_train_tensor).detach().numpy(), label=\"Model Prediction\", color=\"red\")\n",
    "\n",
    "# Plot prediction intervals\n",
    "for i, (lower, upper) in enumerate(prediction_intervals):\n",
    "    plt.plot(X_test[i], test_preds[i][0], 'go', label=f\"Test point {i+1}\")\n",
    "    plt.plot([X_test[i], X_test[i]], [lower[0], upper[0]], 'g--')\n",
    "\n",
    "plt.legend()\n",
    "plt.show()"
   ]
  },
  {
   "cell_type": "markdown",
   "metadata": {},
   "source": [
    "### Key Takeaways\n",
    "\n",
    "This minimal example walks through the basic mechanics of conformal prediction for regression. The key steps include calculating residuals (nonconformity scores) from training data, using those scores to determine prediction intervals for test data points, and using those intervals to quantify the uncertainty in the predictions."
   ]
  },
  {
   "cell_type": "markdown",
   "metadata": {},
   "source": [
    "### Comparison Between Conformal Prediction and Confidence Intervals\n",
    "\n",
    "| **Aspect**               | **Conformal Prediction**                                  | **Confidence Intervals**                                 |\n",
    "|--------------------------|-----------------------------------------------------------|----------------------------------------------------------|\n",
    "| **Purpose**              | Prediction intervals for new observations                | Interval estimates for population parameters             |\n",
    "| **Assumptions**          | Nonparametric, no assumption about the model or distribution | Assumes a specific model (e.g., linear regression) and distribution (e.g., normality) |\n",
    "| **Type of Uncertainty**  | Prediction uncertainty for individual points             | Uncertainty about the population parameter (e.g., mean)   |\n",
    "| **Coverage**             | Guaranteed coverage (e.g., 95% of the time)              | Asymptotic coverage, model-dependent                     |\n",
    "| **Model Dependency**     | Model-agnostic                                           | Model-dependent (parametric)                             |\n",
    "| **Computational Approach**| Empirical, based on nonconformity scores                 | Analytical, based on distributional assumptions           |\n",
    "\n"
   ]
  }
 ],
 "metadata": {
  "kernelspec": {
   "display_name": "p",
   "language": "python",
   "name": "python3"
  },
  "language_info": {
   "codemirror_mode": {
    "name": "ipython",
    "version": 3
   },
   "file_extension": ".py",
   "mimetype": "text/x-python",
   "name": "python",
   "nbconvert_exporter": "python",
   "pygments_lexer": "ipython3",
   "version": "3.12.8"
  }
 },
 "nbformat": 4,
 "nbformat_minor": 2
}
